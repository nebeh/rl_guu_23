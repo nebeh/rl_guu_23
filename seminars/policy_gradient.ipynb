{
 "cells": [
  {
   "cell_type": "markdown",
   "id": "58a04f22",
   "metadata": {},
   "source": [
    "Среда обладает следующими свойствами:\n",
    "\n",
    "- Пространство действий - это множество возможных действий, которые мы можем выполнять на каждом шаге моделирования\n",
    "- Пространство наблюдений - это пространство наблюдений, которые мы можем сделать"
   ]
  },
  {
   "cell_type": "code",
   "execution_count": null,
   "id": "d244335a",
   "metadata": {},
   "outputs": [],
   "source": [
    "import gym\n",
    "\n",
    "env = gym.make(\"CartPole-v1\")\n",
    "\n",
    "print(f\"Action space: {env.action_space}\")\n",
    "print(f\"Observation space: {env.observation_space}\")"
   ]
  },
  {
   "cell_type": "markdown",
   "id": "3c004902",
   "metadata": {},
   "source": [
    "Посмотрим, как работает симуляция. Следующий цикл запускает симуляцию до тех пор, пока env.step не вернет флаг завершения done. Мы будем выбирать действия случайным образом, используя env.action_space.sample(), поэтому эксперимент, скорее всего, закончится очень быстро (среда CartPole завершает работу, когда скорость CartPole, его положение или угол выходят за определенные пределы).\n",
    "\n",
    "Симуляция откроется в новом окне. Вы можете запустить код несколько раз и посмотреть, как он себя ведет."
   ]
  },
  {
   "cell_type": "code",
   "execution_count": 5,
   "id": "c6d0293f",
   "metadata": {},
   "outputs": [
    {
     "name": "stdout",
     "output_type": "stream",
     "text": [
      "[-0.00098678  0.20502952 -0.01614757 -0.33474112] -> 1.0\n",
      "[ 0.00311381  0.4003775  -0.02284239 -0.6324721 ] -> 1.0\n",
      "[ 0.01112136  0.20558158 -0.03549184 -0.34706947] -> 1.0\n",
      "[ 0.015233    0.01098196 -0.04243322 -0.06578628] -> 1.0\n",
      "[ 0.01545263  0.20668578 -0.04374895 -0.3715494 ] -> 1.0\n",
      "[ 0.01958635  0.01221179 -0.05117994 -0.09297561] -> 1.0\n",
      "[ 0.01983059  0.20802853 -0.05303945 -0.40135643] -> 1.0\n",
      "[ 0.02399116  0.4038611  -0.06106658 -0.7102785 ] -> 1.0\n",
      "[ 0.03206838  0.20963566 -0.07527215 -0.43742582] -> 1.0\n",
      "[ 0.03626109  0.01565538 -0.08402067 -0.16938843] -> 1.0\n",
      "[ 0.0365742   0.21187317 -0.08740844 -0.48734987] -> 1.0\n",
      "[ 0.04081166  0.01808625 -0.09715543 -0.22344457] -> 1.0\n",
      "[ 0.04117339  0.21445288 -0.10162432 -0.54512423] -> 1.0\n",
      "[ 0.04546244  0.41084495 -0.1125268  -0.8680186 ] -> 1.0\n",
      "[ 0.05367934  0.6073033  -0.12988718 -1.1938555 ] -> 1.0\n",
      "[ 0.06582541  0.80384576 -0.1537643  -1.5242654 ] -> 1.0\n",
      "[ 0.08190233  0.61087847 -0.1842496  -1.2832583 ] -> 1.0\n",
      "[ 0.09411989  0.41851765 -0.20991476 -1.0534643 ] -> 1.0\n",
      "Total reward: 18.0\n"
     ]
    }
   ],
   "source": [
    "env.reset()\n",
    "\n",
    "done = False\n",
    "total_reward = 0\n",
    "while not done:\n",
    "   env.render()\n",
    "   obs, rew, done, info,_ = env.step(env.action_space.sample())\n",
    "   total_reward += rew\n",
    "   print(f\"{obs} -> {rew}\")\n",
    "print(f\"Total reward: {total_reward}\")"
   ]
  },
  {
   "cell_type": "markdown",
   "id": "40c293e0",
   "metadata": {},
   "source": [
    "Наблюдения содержат 4 числа. Это:\n",
    "\n",
    "- Положение тележки\n",
    "- Скорость тележки\n",
    "- Угол наклона полюса\n",
    "- Скорость вращения полюса\n",
    "reward - вознаграждение, которое мы получаем на каждом шаге. Видно, что в среде CartPole за каждый шаг моделирования начисляется 1 очко, и целью является максимизация общего вознаграждения, т.е. времени, в течение которого CartPole сможет балансировать без падения.\n",
    "\n",
    "В процессе обучения с подкреплением наша цель состоит в обучении такой политики $\\pi$ которая для каждого состояния $s$ подскажет нам, какое действие $a$ предпринять, так что по сути мы ищем $a = \\pi(s)$\n",
    ".\n",
    "\n",
    "Если мы хотим получить вероятностное решение, то можно представить политику как возвращающую набор вероятностей для каждого действия, т.е. $\\pi(a|s)$ будет означать вероятность того, что мы должны предпринять действие $a$ в состоянии $s$\n",
    "."
   ]
  },
  {
   "cell_type": "markdown",
   "id": "98a713ac",
   "metadata": {},
   "source": [
    "В простейшем алгоритме RL, называемом Policy Gradient, мы будем обучать нейронную сеть предсказывать следующее действие."
   ]
  },
  {
   "cell_type": "code",
   "execution_count": 7,
   "id": "58cae5e3",
   "metadata": {},
   "outputs": [],
   "source": [
    "import numpy as np\n",
    "import matplotlib.pyplot as plt\n",
    "import torch\n",
    "\n",
    "num_inputs = 4\n",
    "num_actions = 2\n",
    "\n",
    "model = torch.nn.Sequential(\n",
    "    torch.nn.Linear(num_inputs, 128, bias=False, dtype=torch.float32),\n",
    "    torch.nn.ReLU(),\n",
    "    torch.nn.Linear(128, num_actions, bias = False, dtype=torch.float32),\n",
    "    torch.nn.Softmax(dim=1)\n",
    ")"
   ]
  },
  {
   "cell_type": "markdown",
   "id": "54105816",
   "metadata": {},
   "source": [
    "Мы будем обучать сеть, проводя множество экспериментов и обновляя сеть после каждого эксперимента. Определим функцию, которая будет запускать эксперимент и возвращать результаты (так называемую трассу) - все состояния, действия (и их рекомендуемые вероятности) и вознаграждения:"
   ]
  },
  {
   "cell_type": "code",
   "execution_count": 16,
   "id": "319b0e7a",
   "metadata": {},
   "outputs": [],
   "source": [
    "def run_episode(max_steps_per_episode = 10000,render=False):    \n",
    "    states, actions, probs, rewards = [],[],[],[]\n",
    "    state = env.reset()\n",
    "    state = state[0]\n",
    "    for _ in range(max_steps_per_episode):\n",
    "        if render:\n",
    "            env.render()\n",
    "            \n",
    "        action_probs = model(torch.from_numpy(np.expand_dims(state,0)))[0]\n",
    "        action = np.random.choice(num_actions, p=np.squeeze(action_probs.detach().numpy()))\n",
    "        nstate, reward, done, info,_ = env.step(action)\n",
    "        if done:\n",
    "            break\n",
    "        states.append(state)\n",
    "        actions.append(action)\n",
    "        probs.append(action_probs.detach().numpy())\n",
    "        rewards.append(reward)\n",
    "        state = nstate\n",
    "    return np.vstack(states), np.vstack(actions), np.vstack(probs), np.vstack(rewards)"
   ]
  },
  {
   "cell_type": "markdown",
   "id": "705f5afb",
   "metadata": {},
   "source": [
    "Мы можем запустить один эпизод с необученной сетью и заметить, что общее вознаграждение (оно же длина эпизода) очень мало:"
   ]
  },
  {
   "cell_type": "code",
   "execution_count": 17,
   "id": "b497c703",
   "metadata": {},
   "outputs": [
    {
     "name": "stdout",
     "output_type": "stream",
     "text": [
      "Total reward: 13.0\n"
     ]
    }
   ],
   "source": [
    "s, a, p, r = run_episode()\n",
    "print(f\"Total reward: {np.sum(r)}\")"
   ]
  },
  {
   "cell_type": "markdown",
   "id": "c0f5ad13",
   "metadata": {},
   "source": [
    "Одним из сложных аспектов Policy Gradient алгоритма является использование дисконтированных вознаграждений. Идея заключается в том, что мы вычисляем вектор суммарных вознаграждений на каждом шаге игры и в ходе этого процесса дисконтируем ранние вознаграждения с помощью некоторого коэффициента . Полученный вектор мы также нормализуем, поскольку будем использовать его в качестве веса, влияющего на обучение:"
   ]
  },
  {
   "cell_type": "code",
   "execution_count": 18,
   "id": "0297d4ce",
   "metadata": {},
   "outputs": [],
   "source": [
    "eps = 0.0001\n",
    "\n",
    "def discounted_rewards(rewards,gamma=0.99,normalize=True):\n",
    "    ret = []\n",
    "    s = 0\n",
    "    for r in rewards[::-1]:\n",
    "        s = r + gamma * s\n",
    "        ret.insert(0, s)\n",
    "    if normalize:\n",
    "        ret = (ret-np.mean(ret))/(np.std(ret)+eps)\n",
    "    return ret"
   ]
  },
  {
   "cell_type": "markdown",
   "id": "d67f3524",
   "metadata": {},
   "source": [
    "Теперь приступим к собственно тренировке! Мы проведем 300 эпизодов, и в каждом эпизоде мы будем делать следующее:\n",
    "\n",
    "1. Запустим эксперимент и соберем трассу\n",
    "2. Вычислим разницу (градиенты) между выполненными действиями и предсказанными вероятностями. Чем меньше разница, тем больше уверенности, что мы совершили правильное действие.\n",
    "3. Вычислим дисконтированные вознаграждения и умножить градиенты на дисконтированные вознаграждения - это позволит убедиться в том, что шаги с большим вознаграждением окажут большее влияние на конечный результат, чем шаги с меньшим вознаграждением.\n",
    "4. Ожидаемые целевые действия для нашей нейронной сети будут частично взяты из предсказанных вероятностей во время выполнения, а частично из рассчитанных градиентов. Для определения степени учета градиентов и вознаграждений мы будем использовать параметр alpha - это называется скоростью обучения алгоритма подкрепления.\n",
    "5. Наконец, мы обучаем нашу сеть на состояниях и ожидаемых действиях и повторяем процесс"
   ]
  },
  {
   "cell_type": "code",
   "execution_count": 19,
   "id": "7bf967ec",
   "metadata": {},
   "outputs": [],
   "source": [
    "optimizer = torch.optim.Adam(model.parameters(), lr=0.01)\n",
    "\n",
    "def train_on_batch(x, y):\n",
    "    x = torch.from_numpy(x)\n",
    "    y = torch.from_numpy(y)\n",
    "    optimizer.zero_grad()\n",
    "    predictions = model(x)\n",
    "    loss = -torch.mean(torch.log(predictions) * y)\n",
    "    loss.backward()\n",
    "    optimizer.step()\n",
    "    return loss"
   ]
  },
  {
   "cell_type": "code",
   "execution_count": 20,
   "id": "25e4f3f3",
   "metadata": {},
   "outputs": [
    {
     "name": "stdout",
     "output_type": "stream",
     "text": [
      "0 -> 21.0\n",
      "100 -> 664.0\n",
      "200 -> 10000.0\n"
     ]
    },
    {
     "data": {
      "text/plain": [
       "[<matplotlib.lines.Line2D at 0x7f6fa5f11810>]"
      ]
     },
     "execution_count": 20,
     "metadata": {},
     "output_type": "execute_result"
    },
    {
     "data": {
      "image/png": "[encoded data removed]",
      "text/plain": [
       "<Figure size 640x480 with 1 Axes>"
      ]
     },
     "metadata": {},
     "output_type": "display_data"
    }
   ],
   "source": [
    "alpha = 1e-4\n",
    "\n",
    "history = []\n",
    "for epoch in range(300):\n",
    "    states, actions, probs, rewards = run_episode()\n",
    "    one_hot_actions = np.eye(2)[actions.T][0]\n",
    "    gradients = one_hot_actions-probs\n",
    "    dr = discounted_rewards(rewards)\n",
    "    gradients *= dr\n",
    "    target = alpha*np.vstack([gradients])+probs\n",
    "    train_on_batch(states,target)\n",
    "    history.append(np.sum(rewards))\n",
    "    if epoch%100==0:\n",
    "        print(f\"{epoch} -> {np.sum(rewards)}\")\n",
    "\n",
    "plt.plot(history)"
   ]
  },
  {
   "cell_type": "markdown",
   "id": "6842e401",
   "metadata": {},
   "source": [
    "Теперь запустим эпизод с рендерингом, чтобы увидеть результат:"
   ]
  },
  {
   "cell_type": "code",
   "execution_count": 23,
   "id": "9e81a7fb",
   "metadata": {},
   "outputs": [],
   "source": [
    "_ = run_episode(render=True)"
   ]
  },
  {
   "cell_type": "code",
   "execution_count": null,
   "id": "f04fbf91",
   "metadata": {},
   "outputs": [],
   "source": []
  }
 ],
 "metadata": {
  "kernelspec": {
   "display_name": "Python 3 (ipykernel)",
   "language": "python",
   "name": "python3"
  },
  "language_info": {
   "codemirror_mode": {
    "name": "ipython",
    "version": 3
   },
   "file_extension": ".py",
   "mimetype": "text/x-python",
   "name": "python",
   "nbconvert_exporter": "python",
   "pygments_lexer": "ipython3",
   "version": "3.11.5"
  }
 },
 "nbformat": 4,
 "nbformat_minor": 5
}
